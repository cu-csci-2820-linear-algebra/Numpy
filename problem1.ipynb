{
 "cells": [
  {
   "cell_type": "markdown",
   "metadata": {},
   "source": [
    "Before you turn this problem in, make sure everything runs as expected. First, **restart the kernel** (in the menubar, select Kernel$\\rightarrow$Restart) and then **run all cells** (in the menubar, select Cell$\\rightarrow$Run All).\n",
    "\n",
    "Make sure you fill in any place that says `YOUR CODE HERE` or \"YOUR ANSWER HERE\", as well as your name and collaborators below:"
   ]
  },
  {
   "cell_type": "code",
   "execution_count": null,
   "metadata": {},
   "outputs": [],
   "source": [
    "NAME = \"\"\n",
    "COLLABORATORS = \"\""
   ]
  },
  {
   "cell_type": "markdown",
   "metadata": {},
   "source": [
    "---"
   ]
  },
  {
   "cell_type": "code",
   "execution_count": null,
   "metadata": {},
   "outputs": [],
   "source": [
    "import numpy as np\n",
    "import numpy.testing as test\n",
    "print(\"Imported numpy!\")"
   ]
  },
  {
   "cell_type": "markdown",
   "metadata": {},
   "source": [
    "---\n",
    "## Part A (2 points)\n",
    "\n",
    "Write a function that returns the unit vector $e_i$ of length $n$. Because numpy arrays use zero-based indexing, your function should work for $0 \\le i \\lt n$, and raise a ValueError otherwise.  Also raise a ValueError if $n < 1$.\n",
    "\n",
    "$$(e_i)_j = \\begin{cases}\n",
    "1 & j = i \\\\\n",
    "0 & j \\ne i\n",
    "\\end{cases}$$"
   ]
  },
  {
   "cell_type": "code",
   "execution_count": null,
   "metadata": {
    "deletable": false,
    "nbgrader": {
     "cell_type": "code",
     "checksum": "5ecd1de2ae445666991510b511b39c72",
     "grade": false,
     "grade_id": "squares",
     "locked": false,
     "schema_version": 3,
     "solution": true
    }
   },
   "outputs": [],
   "source": [
    "def unit_vector(n, i):\n",
    "    \"\"\"Return the zero-based unit vector e_i of length n.    \n",
    "    \"\"\"\n",
    "    # YOUR CODE HERE\n",
    "    raise NotImplementedError()"
   ]
  },
  {
   "cell_type": "code",
   "execution_count": null,
   "metadata": {},
   "outputs": [],
   "source": [
    "def TEST_unit_vector():\n",
    "    \"\"\"Check that unitvector returns the correct output for several inputs\"\"\"\n",
    "    test.assert_equal(unit_vector(4, 1), np.array([0, 1, 0, 0]))\n",
    "    test.assert_equal(unit_vector(2, 0), np.array([1, 0]))\n",
    "\n",
    "    \"\"\"Check that squares raises an error for invalid inputs\"\"\"\n",
    "    with test.assert_raises(ValueError):\n",
    "        unit_vector(-1,0)\n",
    "    with test.assert_raises(ValueError):\n",
    "        unit_vector(4,4)\n",
    "    with test.assert_raises(ValueError):\n",
    "        unit_vector(4,-1)\n",
    "        \n",
    "#running the test\n",
    "TEST_unit_vector()"
   ]
  },
  {
   "cell_type": "markdown",
   "metadata": {},
   "source": [
    "---\n",
    "\n",
    "## Part B (2 points)\n",
    "\n",
    "Write a function axpby that updates the array y with $y \\leftarrow \\alpha x + \\beta y$ given floats $\\alpha, \\beta$ and 1-D arrays $x, y$.  Because the function's purpose is to modifying $y$, axpby should return `None`."
   ]
  },
  {
   "cell_type": "code",
   "execution_count": null,
   "metadata": {
    "deletable": false,
    "nbgrader": {
     "cell_type": "code",
     "checksum": "1238bb492a1d355c62ee80a98609f008",
     "grade": false,
     "grade_id": "sum_of_squares",
     "locked": false,
     "schema_version": 3,
     "solution": true
    }
   },
   "outputs": [],
   "source": [
    "def axpby(a, x, b, y):\n",
    "    \"\"\"Compute ax + by\"\"\"\n",
    "    # YOUR CODE HERE\n",
    "    raise NotImplementedError()"
   ]
  },
  {
   "cell_type": "code",
   "execution_count": null,
   "metadata": {},
   "outputs": [],
   "source": [
    "def TEST_axpby():\n",
    "    \"\"\"Check that sum_of_squares returns the correct answer for various inputs.\"\"\"\n",
    "    u = np.array([0.8781019 , 0.18552796, 0.92090045, 0.94656586])\n",
    "    v = np.array([0.87450809, 0.11574276, 0.19373166, 0.3417372 ])\n",
    "    alpha = 0.14833610379597723\n",
    "    beta = -0.08612337722509229\n",
    "    test.assert_equal(axpby(alpha, u, beta, v), None)\n",
    "    test.assert_almost_equal(v, np.array([0.05493862, 0.01755234, 0.11991796, 0.11097833]))\n",
    "    \n",
    "#running the test\n",
    "TEST_axpby()"
   ]
  },
  {
   "cell_type": "markdown",
   "metadata": {},
   "source": [
    "---\n",
    "## Part C (1 point)\n",
    "\n",
    "Suppose a student's grades in a course are represented by a vector $g$, with each grade between zero and one: $0 \\le g_i \\le 1$. The weights for each assessment are given by a vector $w$, such that the student's final weighted grade will be $g^T w$.  This course has sixteen homeworks, four labs, and two exams, ordered in the vector like so:\n",
    "$$\n",
    "g = \\begin{bmatrix}\n",
    "hw_1 \\\\\n",
    "\\vdots \\\\\n",
    "hw_{16} \\\\\n",
    "lab_1 \\\\\n",
    "\\vdots \\\\\n",
    "lab_4 \\\\\n",
    "exam_1 \\\\\n",
    "exam_2 \\\\\n",
    "\\end{bmatrix}\n",
    "$$\n",
    "\n",
    "Write a function final_grade that takes in a student's grades and returns the final value between 0 and 1.  Fill the weight vector such that all homeworks together have a combined weight of 50%, labs 25%, and exams 25%."
   ]
  },
  {
   "cell_type": "code",
   "execution_count": null,
   "metadata": {
    "deletable": false,
    "nbgrader": {
     "cell_type": "code",
     "checksum": "9541608ca254d599d817d7bb843a1126",
     "grade": false,
     "grade_id": "cell-714c0e5da50c6adf",
     "locked": false,
     "schema_version": 3,
     "solution": true,
     "task": false
    }
   },
   "outputs": [],
   "source": [
    "def final_grade(g):\n",
    "    # w = ???\n",
    "    # YOUR CODE HERE\n",
    "    raise NotImplementedError()\n",
    "    return g @ w\n"
   ]
  },
  {
   "cell_type": "code",
   "execution_count": null,
   "metadata": {},
   "outputs": [],
   "source": [
    "def TEST_final_grade():\n",
    "    # first check that all grades = 1 gives final grade = 1\n",
    "    test.assert_almost_equal(np.ones(22), final_grade(np.ones(22)))\n",
    "    # random test from seed\n",
    "    from numpy.random import default_rng\n",
    "    rng = default_rng(11931)\n",
    "    grades = rng.random(22)\n",
    "    test.assert_almost_equal(0.42795919911899194, final_grade(grades))\n",
    "    \n",
    "# run the test\n",
    "TEST_final_grade()"
   ]
  }
 ],
 "metadata": {
  "kernelspec": {
   "display_name": "Python 3",
   "language": "python",
   "name": "python3"
  },
  "language_info": {
   "codemirror_mode": {
    "name": "ipython",
    "version": 3
   },
   "file_extension": ".py",
   "mimetype": "text/x-python",
   "name": "python",
   "nbconvert_exporter": "python",
   "pygments_lexer": "ipython3",
   "version": "3.8.6"
  }
 },
 "nbformat": 4,
 "nbformat_minor": 4
}
